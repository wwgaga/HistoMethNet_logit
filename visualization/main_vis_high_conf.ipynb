{
 "cells": [
  {
   "cell_type": "code",
   "execution_count": 7,
   "metadata": {},
   "outputs": [],
   "source": [
    "import pdb\n",
    "import os\n",
    "import pandas as pd\n",
    "import argparse\n",
    "import numpy as np"
   ]
  },
  {
   "cell_type": "code",
   "execution_count": 9,
   "metadata": {},
   "outputs": [],
   "source": [
    "import sys\n",
    "sys.path.append('../')"
   ]
  },
  {
   "cell_type": "code",
   "execution_count": 14,
   "metadata": {},
   "outputs": [],
   "source": [
    "from prototype_visualization_utils import visualize_categorical_heatmap, get_mixture_plot, get_default_cmap"
   ]
  },
  {
   "cell_type": "code",
   "execution_count": 15,
   "metadata": {},
   "outputs": [],
   "source": [
    "from prototype_visualization_utils import get_rrt_encoder"
   ]
  },
  {
   "cell_type": "markdown",
   "metadata": {},
   "source": [
    "## import checkpoint "
   ]
  },
  {
   "cell_type": "code",
   "execution_count": null,
   "metadata": {},
   "outputs": [],
   "source": [
    "print('\\ninitializing model from checkpoint')\n",
    "#ckpt_path = '/cbica/home/tianyu/projects/dna-rrt/results/task_dna_subtyping_RRT_Mixbag_dana_suggest_s1/s_7_checkpoint_best.pt'\n",
    "ckpt_path = '/cbica/home/tianyu/projects/dna-rrt-patch-only/results/All_data_Ken_class_contrast_uni_2_feature_trans_classifer_no_feature_mlps_s1/s_5_checkpoint_best_r.pt'\n",
    "print('\\nckpt path: {}'.format(ckpt_path))\n",
    "device = 'cuda:0'\n",
    "feature_extractor = get_rrt_encoder(ckpt_path, device=device)\n",
    "\n",
    "print('Done!')"
   ]
  },
  {
   "cell_type": "markdown",
   "metadata": {},
   "source": [
    "## import csv data"
   ]
  },
  {
   "cell_type": "code",
   "execution_count": 16,
   "metadata": {},
   "outputs": [],
   "source": [
    "csv_path = '../dataset_csv/dna_methylation_upenn_nih_new_jan.csv'  # Update this path as needed\n",
    "df = pd.read_csv(csv_path)"
   ]
  },
  {
   "cell_type": "code",
   "execution_count": 18,
   "metadata": {},
   "outputs": [
    {
     "data": {
      "text/html": [
       "<div>\n",
       "<style scoped>\n",
       "    .dataframe tbody tr th:only-of-type {\n",
       "        vertical-align: middle;\n",
       "    }\n",
       "\n",
       "    .dataframe tbody tr th {\n",
       "        vertical-align: top;\n",
       "    }\n",
       "\n",
       "    .dataframe thead th {\n",
       "        text-align: right;\n",
       "    }\n",
       "</style>\n",
       "<table border=\"1\" class=\"dataframe\">\n",
       "  <thead>\n",
       "    <tr style=\"text-align: right;\">\n",
       "      <th></th>\n",
       "      <th>case_id</th>\n",
       "      <th>slide_id</th>\n",
       "      <th>label</th>\n",
       "      <th>stem-like</th>\n",
       "      <th>diff</th>\n",
       "      <th>immune</th>\n",
       "      <th>neuron</th>\n",
       "      <th>glia</th>\n",
       "      <th>endothelial</th>\n",
       "      <th>GN</th>\n",
       "      <th>lymphoid_cells</th>\n",
       "      <th>MES_ATYP</th>\n",
       "      <th>MES_TYP</th>\n",
       "      <th>myeloid_cells</th>\n",
       "      <th>RTK_I</th>\n",
       "      <th>RTK_II</th>\n",
       "    </tr>\n",
       "  </thead>\n",
       "  <tbody>\n",
       "    <tr>\n",
       "      <th>0</th>\n",
       "      <td>207831660013_R01C01</td>\n",
       "      <td>FF67_ST-23-8627-A1</td>\n",
       "      <td>mesenchymal</td>\n",
       "      <td>0.116185</td>\n",
       "      <td>0.653499</td>\n",
       "      <td>0.110656</td>\n",
       "      <td>0.071112</td>\n",
       "      <td>0.048548</td>\n",
       "      <td>0.001232</td>\n",
       "      <td>0.000000</td>\n",
       "      <td>0.016526</td>\n",
       "      <td>0.000235</td>\n",
       "      <td>0.00403</td>\n",
       "      <td>0.000639</td>\n",
       "      <td>0.000000</td>\n",
       "      <td>0.977338</td>\n",
       "    </tr>\n",
       "    <tr>\n",
       "      <th>1</th>\n",
       "      <td>207831660066_R02C01</td>\n",
       "      <td>FF66_ST-23-8626-A1</td>\n",
       "      <td>mesenchymal</td>\n",
       "      <td>0.624968</td>\n",
       "      <td>0.128323</td>\n",
       "      <td>0.070269</td>\n",
       "      <td>0.037280</td>\n",
       "      <td>0.139160</td>\n",
       "      <td>0.000000</td>\n",
       "      <td>0.019005</td>\n",
       "      <td>0.000000</td>\n",
       "      <td>0.013635</td>\n",
       "      <td>0.00000</td>\n",
       "      <td>0.000000</td>\n",
       "      <td>0.921147</td>\n",
       "      <td>0.046213</td>\n",
       "    </tr>\n",
       "  </tbody>\n",
       "</table>\n",
       "</div>"
      ],
      "text/plain": [
       "               case_id            slide_id        label  stem-like      diff  \\\n",
       "0  207831660013_R01C01  FF67_ST-23-8627-A1  mesenchymal   0.116185  0.653499   \n",
       "1  207831660066_R02C01  FF66_ST-23-8626-A1  mesenchymal   0.624968  0.128323   \n",
       "\n",
       "     immune    neuron      glia  endothelial        GN  lymphoid_cells  \\\n",
       "0  0.110656  0.071112  0.048548     0.001232  0.000000        0.016526   \n",
       "1  0.070269  0.037280  0.139160     0.000000  0.019005        0.000000   \n",
       "\n",
       "   MES_ATYP  MES_TYP  myeloid_cells     RTK_I    RTK_II  \n",
       "0  0.000235  0.00403       0.000639  0.000000  0.977338  \n",
       "1  0.013635  0.00000       0.000000  0.921147  0.046213  "
      ]
     },
     "execution_count": 18,
     "metadata": {},
     "output_type": "execute_result"
    }
   ],
   "source": [
    "df.head(2)"
   ]
  },
  {
   "cell_type": "code",
   "execution_count": 26,
   "metadata": {},
   "outputs": [
    {
     "data": {
      "text/plain": [
       "682"
      ]
     },
     "execution_count": 26,
     "metadata": {},
     "output_type": "execute_result"
    }
   ],
   "source": [
    "len(df['slide_id'].tolist())"
   ]
  },
  {
   "cell_type": "code",
   "execution_count": 27,
   "metadata": {},
   "outputs": [],
   "source": [
    "cell_type_names = ['endothelial', 'GN', 'lymphoid_cells', 'MES_ATYP', 'MES_TYP', 'myeloid_cells', 'RTK_I', 'RTK_II']\n",
    "# cell_type_names = ['stem-like', 'Non-stem']\n",
    "#cell_type_names = ['stem-like',\t'diff',\t'immune', 'neuron', 'glia']\n",
    "num_cell_type = len(cell_type_names)"
   ]
  },
  {
   "cell_type": "code",
   "execution_count": 28,
   "metadata": {},
   "outputs": [
    {
     "data": {
      "text/plain": [
       "8"
      ]
     },
     "execution_count": 28,
     "metadata": {},
     "output_type": "execute_result"
    }
   ],
   "source": [
    "num_cell_type"
   ]
  }
 ],
 "metadata": {
  "kernelspec": {
   "display_name": "clam_latest",
   "language": "python",
   "name": "python3"
  },
  "language_info": {
   "codemirror_mode": {
    "name": "ipython",
    "version": 3
   },
   "file_extension": ".py",
   "mimetype": "text/x-python",
   "name": "python",
   "nbconvert_exporter": "python",
   "pygments_lexer": "ipython3",
   "version": "3.10.0"
  }
 },
 "nbformat": 4,
 "nbformat_minor": 2
}
